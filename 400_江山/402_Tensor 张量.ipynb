{
 "cells": [
  {
   "cell_type": "markdown",
   "id": "ed408e2e613fe724",
   "metadata": {},
   "source": [
    "# Tensor 张量"
   ]
  },
  {
   "cell_type": "markdown",
   "id": "ae7ac6a08b03c951",
   "metadata": {},
   "source": "## 1 深度学习基础概念 - 机器学习的两个基本问题"
  },
  {
   "metadata": {},
   "cell_type": "markdown",
   "source": [
    "### 1.1 分类问题\n",
    "\n",
    "分类问题的目标是预测一个离散的标签或类别。\n",
    "这些标签通常是有限的，并且代表了不同的类别或组。\n",
    "\n",
    "### 1.2 回归问题\n",
    "\n",
    "回归问题的目标是预测一个连续的数值变量。\n",
    "这些数值可以是无限的，回归模型尝试找到输入变量和连续输出变量之间的关系。\n"
   ],
   "id": "dd543c80db4087bd"
  },
  {
   "metadata": {},
   "cell_type": "markdown",
   "source": [
    "## 2 标量、向量、矩阵、张量\n",
    "\n",
    "- 标量（Scalar）：0 阶张量\n",
    "- 向量（Vector）：1 阶张量\n",
    "- 矩阵（Matrix）：2 阶张量\n",
    "- 张量（Tensor）：n 阶（Dimensions，维）\n"
   ],
   "id": "3997d2a51649b0a2"
  },
  {
   "cell_type": "markdown",
   "id": "6e4a1bbe1112137b",
   "metadata": {},
   "source": [
    "## 3 Tensor 的创建"
   ]
  },
  {
   "cell_type": "markdown",
   "id": "fefe5bc83f5a0d19",
   "metadata": {},
   "source": [
    "### 3.1 创建特定值张量"
   ]
  },
  {
   "cell_type": "code",
   "id": "158f95e696e7e704",
   "metadata": {
    "ExecuteTime": {
     "end_time": "2025-02-16T06:49:17.535477Z",
     "start_time": "2025-02-16T06:49:13.231756Z"
    }
   },
   "source": [
    "import torch\n",
    "\n",
    "print(torch.__version__)\n",
    "print(torch.cuda.is_available())\n"
   ],
   "outputs": [
    {
     "name": "stdout",
     "output_type": "stream",
     "text": [
      "2.2.2\n",
      "True\n"
     ]
    }
   ],
   "execution_count": 1
  },
  {
   "cell_type": "code",
   "id": "2ee66092677e40c",
   "metadata": {
    "ExecuteTime": {
     "end_time": "2025-02-16T06:49:17.581674Z",
     "start_time": "2025-02-16T06:49:17.551368Z"
    }
   },
   "source": [
    "# 直接赋值初始化\n",
    "a = torch.tensor([[1, 2, 3], [4, 5, 6]])\n",
    "# 返回a的Tensor类型\n",
    "print(a.type())\n",
    "# 返回a的Tensor形状\n",
    "print(a.shape)\n",
    "# 创建指定形状的Tensor\n",
    "b = torch.Tensor(2, 3)\n",
    "print(b)\n",
    "print(b.type())\n"
   ],
   "outputs": [
    {
     "name": "stdout",
     "output_type": "stream",
     "text": [
      "torch.LongTensor\n",
      "torch.Size([2, 3])\n",
      "tensor([[-2.9040e-34,  1.8707e-42,  0.0000e+00],\n",
      "        [ 0.0000e+00,  0.0000e+00,  0.0000e+00]])\n",
      "torch.FloatTensor\n"
     ]
    }
   ],
   "execution_count": 2
  },
  {
   "cell_type": "markdown",
   "id": "3e34b7ab38a2b9b2",
   "metadata": {},
   "source": [
    "### 3.2 创建特殊值张量"
   ]
  },
  {
   "cell_type": "code",
   "id": "initial_id",
   "metadata": {
    "collapsed": true,
    "jupyter": {
     "outputs_hidden": true
    },
    "ExecuteTime": {
     "end_time": "2025-02-16T06:49:18.159711Z",
     "start_time": "2025-02-16T06:49:18.131526Z"
    }
   },
   "source": [
    "print(f\"全1张量：\\n {torch.ones((2, 3, 4))}\")\n",
    "print(f\"全0张量：\\n {torch.zeros((2, 3, 4))}\")\n",
    "print(f\"单位矩阵：\\n {torch.eye(3)}\")\n",
    "print(f\"指定大小张量：\\n {torch.empty((2, 3, 4))}\")\n",
    "print(f\"指定大小和值张量：\\n {torch.full((2, 3, 4), 5)}\")\n"
   ],
   "outputs": [
    {
     "name": "stdout",
     "output_type": "stream",
     "text": [
      "全1张量：\n",
      " tensor([[[1., 1., 1., 1.],\n",
      "         [1., 1., 1., 1.],\n",
      "         [1., 1., 1., 1.]],\n",
      "\n",
      "        [[1., 1., 1., 1.],\n",
      "         [1., 1., 1., 1.],\n",
      "         [1., 1., 1., 1.]]])\n",
      "全0张量：\n",
      " tensor([[[0., 0., 0., 0.],\n",
      "         [0., 0., 0., 0.],\n",
      "         [0., 0., 0., 0.]],\n",
      "\n",
      "        [[0., 0., 0., 0.],\n",
      "         [0., 0., 0., 0.],\n",
      "         [0., 0., 0., 0.]]])\n",
      "单位矩阵：\n",
      " tensor([[1., 0., 0.],\n",
      "        [0., 1., 0.],\n",
      "        [0., 0., 1.]])\n",
      "指定大小张量：\n",
      " tensor([[[-2.9493e-34,  1.8707e-42,  0.0000e+00,  0.0000e+00],\n",
      "         [ 0.0000e+00,  0.0000e+00,  0.0000e+00,  0.0000e+00],\n",
      "         [ 0.0000e+00,  0.0000e+00,  0.0000e+00,  0.0000e+00]],\n",
      "\n",
      "        [[ 0.0000e+00,  0.0000e+00,  0.0000e+00,  0.0000e+00],\n",
      "         [ 0.0000e+00,  0.0000e+00,  0.0000e+00,  0.0000e+00],\n",
      "         [ 0.0000e+00,  0.0000e+00,  0.0000e+00,  0.0000e+00]]])\n",
      "指定大小和值张量：\n",
      " tensor([[[5, 5, 5, 5],\n",
      "         [5, 5, 5, 5],\n",
      "         [5, 5, 5, 5]],\n",
      "\n",
      "        [[5, 5, 5, 5],\n",
      "         [5, 5, 5, 5],\n",
      "         [5, 5, 5, 5]]])\n"
     ]
    }
   ],
   "execution_count": 3
  },
  {
   "cell_type": "code",
   "id": "277b087b8fc1a6fc",
   "metadata": {
    "ExecuteTime": {
     "end_time": "2025-02-16T06:49:18.190840Z",
     "start_time": "2025-02-16T06:49:18.178595Z"
    }
   },
   "source": [
    "# 拷贝自原属性（形状、数据类型）的新张量\n",
    "x = torch.empty((2, 3, 4))\n",
    "print(x)\n",
    "print(f\"拷贝全1张量：\\n {torch.ones_like(x)}\")\n",
    "print(f\"拷贝全0张量：\\n {torch.zeros_like(x)}\")\n",
    "print(f\"拷贝指定大小张量：\\n {torch.empty_like(x)}\")\n",
    "print(f\"拷贝指定大小和值张量：\\n {torch.full_like(x, 5)}\")\n"
   ],
   "outputs": [
    {
     "name": "stdout",
     "output_type": "stream",
     "text": [
      "tensor([[[-2.9494e-34,  1.8707e-42,  0.0000e+00,  0.0000e+00],\n",
      "         [ 0.0000e+00,  0.0000e+00,  0.0000e+00,  0.0000e+00],\n",
      "         [ 0.0000e+00,  0.0000e+00,  0.0000e+00,  0.0000e+00]],\n",
      "\n",
      "        [[ 0.0000e+00,  0.0000e+00,  0.0000e+00,  0.0000e+00],\n",
      "         [ 0.0000e+00,  0.0000e+00,  0.0000e+00,  0.0000e+00],\n",
      "         [ 0.0000e+00,  0.0000e+00,  0.0000e+00,  0.0000e+00]]])\n",
      "拷贝全1张量：\n",
      " tensor([[[1., 1., 1., 1.],\n",
      "         [1., 1., 1., 1.],\n",
      "         [1., 1., 1., 1.]],\n",
      "\n",
      "        [[1., 1., 1., 1.],\n",
      "         [1., 1., 1., 1.],\n",
      "         [1., 1., 1., 1.]]])\n",
      "拷贝全0张量：\n",
      " tensor([[[0., 0., 0., 0.],\n",
      "         [0., 0., 0., 0.],\n",
      "         [0., 0., 0., 0.]],\n",
      "\n",
      "        [[0., 0., 0., 0.],\n",
      "         [0., 0., 0., 0.],\n",
      "         [0., 0., 0., 0.]]])\n",
      "拷贝指定大小张量：\n",
      " tensor([[[-2.9048e-34,  1.8707e-42,  0.0000e+00,  0.0000e+00],\n",
      "         [ 0.0000e+00,  0.0000e+00,  0.0000e+00,  0.0000e+00],\n",
      "         [ 0.0000e+00,  0.0000e+00,  0.0000e+00,  0.0000e+00]],\n",
      "\n",
      "        [[ 0.0000e+00,  0.0000e+00,  0.0000e+00,  0.0000e+00],\n",
      "         [ 0.0000e+00,  0.0000e+00,  0.0000e+00,  0.0000e+00],\n",
      "         [ 0.0000e+00,  0.0000e+00,  0.0000e+00,  0.0000e+00]]])\n",
      "拷贝指定大小和值张量：\n",
      " tensor([[[5., 5., 5., 5.],\n",
      "         [5., 5., 5., 5.],\n",
      "         [5., 5., 5., 5.]],\n",
      "\n",
      "        [[5., 5., 5., 5.],\n",
      "         [5., 5., 5., 5.],\n",
      "         [5., 5., 5., 5.]]])\n"
     ]
    }
   ],
   "execution_count": 4
  },
  {
   "cell_type": "markdown",
   "id": "4e0f345fad39cd62",
   "metadata": {},
   "source": [
    "### 3.3 随机初始化张量"
   ]
  },
  {
   "cell_type": "code",
   "id": "f37982e9aabb4000",
   "metadata": {
    "ExecuteTime": {
     "end_time": "2025-02-16T06:49:18.238491Z",
     "start_time": "2025-02-16T06:49:18.209417Z"
    }
   },
   "source": [
    "print(f\"随机张量∈(0, 1)：\\n {torch.rand((2, 3, 4))}\")\n",
    "print(f\"标准正态分布张量N(0, 1)，即固定随机序列平均值为0、标准差为1：\\n {torch.randn((2, 3, 4))}\")\n",
    "print(f\"正态分布张量，指定随机序列平均值为0.5、标准差为1.5：\\n {torch.normal(0.5, 1.5, (2, 3, 4))}\")\n",
    "print(f\"均匀分布张量，指定随机序列范围为(-5, 5)：\\n {torch.Tensor(2, 3, 4).uniform_(-5, 5)}\")\n"
   ],
   "outputs": [
    {
     "name": "stdout",
     "output_type": "stream",
     "text": [
      "随机张量∈(0, 1)：\n",
      " tensor([[[0.7688, 0.1197, 0.1395, 0.0399],\n",
      "         [0.6709, 0.6557, 0.7611, 0.4114],\n",
      "         [0.3408, 0.6320, 0.8547, 0.8268]],\n",
      "\n",
      "        [[0.5782, 0.3011, 0.0477, 0.4260],\n",
      "         [0.2365, 0.3435, 0.3106, 0.4258],\n",
      "         [0.6456, 0.1257, 0.3132, 0.4032]]])\n",
      "标准正态分布张量N(0, 1)，即固定随机序列平均值为0、标准差为1：\n",
      " tensor([[[ 2.0059, -0.3452,  0.8091,  2.0749],\n",
      "         [-2.0739, -0.5483, -0.5627,  0.1265],\n",
      "         [ 2.2766,  0.8348, -1.7597,  0.2152]],\n",
      "\n",
      "        [[ 0.4798,  0.4452,  0.3171,  0.7095],\n",
      "         [ 1.9707, -2.1797, -1.2751,  0.4859],\n",
      "         [-0.5527,  2.1053,  0.9853,  0.0273]]])\n",
      "正态分布张量，指定随机序列平均值为0.5、标准差为1.5：\n",
      " tensor([[[ 2.3982,  1.0216,  1.0596,  0.2840],\n",
      "         [-0.4369, -1.6167,  2.6768,  0.3559],\n",
      "         [-0.8732,  1.2567,  0.1081, -1.8248]],\n",
      "\n",
      "        [[-1.8359,  0.1405,  2.2148, -0.5638],\n",
      "         [ 0.4863, -1.7744, -0.2744,  0.6459],\n",
      "         [ 2.7501,  0.3647,  0.3293,  0.1849]]])\n",
      "均匀分布张量，指定随机序列范围为(-5, 5)：\n",
      " tensor([[[-4.5581,  4.6662,  0.9628,  0.2505],\n",
      "         [-0.3191, -2.9448, -0.9381, -1.2905],\n",
      "         [-2.7805, -1.7004,  2.5952, -1.6186]],\n",
      "\n",
      "        [[-2.5002, -3.0189,  2.8945,  1.4577],\n",
      "         [-2.6648, -0.7060,  2.2703, -4.9392],\n",
      "         [-4.3701, -4.6916,  4.6819,  2.7162]]])\n"
     ]
    }
   ],
   "execution_count": 5
  },
  {
   "cell_type": "code",
   "id": "91a3eb4da9f7a59c",
   "metadata": {
    "ExecuteTime": {
     "end_time": "2025-02-16T06:49:18.270572Z",
     "start_time": "2025-02-16T06:49:18.258122Z"
    }
   },
   "source": [
    "# 拷贝自原属性（形状、数据类型）的新张量\n",
    "y = torch.empty((2, 3, 4))\n",
    "print(y)\n",
    "print(f\"拷贝随机张量：\\n {torch.rand_like(y)}\")\n",
    "print(f\"拷贝标准正态分布张量N(0, 1)，即固定随机序列平均值为0、标准差为1：\\n {torch.randn_like(y)}\")\n"
   ],
   "outputs": [
    {
     "name": "stdout",
     "output_type": "stream",
     "text": [
      "tensor([[[-2.9042e-34,  1.8707e-42,  2.3694e-38,  2.3694e-38],\n",
      "         [ 2.3694e-38,  2.3694e-38,  1.0000e+00,  1.0000e+00],\n",
      "         [ 1.0000e+00,  1.0000e+00,  1.0000e+00,  1.0000e+00]],\n",
      "\n",
      "        [[ 1.0000e+00,  1.0000e+00,  1.0000e+00,  1.0000e+00],\n",
      "         [ 1.0000e+00,  1.0000e+00,  1.0000e+00,  1.0000e+00],\n",
      "         [ 1.0000e+00,  1.0000e+00,  1.0000e+00,  1.0000e+00]]])\n",
      "拷贝随机张量：\n",
      " tensor([[[0.7945, 0.3189, 0.9701, 0.9871],\n",
      "         [0.4470, 0.3392, 0.0464, 0.6544],\n",
      "         [0.2936, 0.9403, 0.8561, 0.8331]],\n",
      "\n",
      "        [[0.7192, 0.8666, 0.6920, 0.6897],\n",
      "         [0.6838, 0.1659, 0.5712, 0.9034],\n",
      "         [0.8830, 0.1890, 0.6568, 0.1418]]])\n",
      "拷贝标准正态分布张量N(0, 1)，即固定随机序列平均值为0、标准差为1：\n",
      " tensor([[[-8.9645e-01,  3.7762e-04, -1.6853e-01, -3.3387e-01],\n",
      "         [ 4.3234e-01,  1.4478e+00, -1.6361e+00,  1.8688e-01],\n",
      "         [ 1.5955e-01,  1.7617e-01, -2.8403e-01,  3.1612e-01]],\n",
      "\n",
      "        [[-2.8568e-01, -2.2003e-02, -3.8374e-01,  1.0742e+00],\n",
      "         [-2.0880e-01, -3.0692e-02, -4.1466e-01,  3.7233e-01],\n",
      "         [ 1.9224e+00, -7.2473e-01, -4.4562e-02,  7.1545e-02]]])\n"
     ]
    }
   ],
   "execution_count": 6
  },
  {
   "cell_type": "markdown",
   "id": "81b02781f5e779db",
   "metadata": {},
   "source": [
    "### 3.4 序列初始化张量"
   ]
  },
  {
   "cell_type": "code",
   "id": "a329dc8df4dc2787",
   "metadata": {
    "ExecuteTime": {
     "end_time": "2025-02-16T06:49:18.302394Z",
     "start_time": "2025-02-16T06:49:18.289669Z"
    }
   },
   "source": [
    "print(f\"等距离序列，[初始值:0, 结束值)及步长:1 \\t {torch.arange(1, 11, 2) = }\")\n",
    "print(f\"等间隔序列，[初始值, 结束值]及元素个数 \\t {torch.linspace(1, 11, 5) = }\")\n",
    "print(f\"等距乱序列，[初始值=0, 结束值)及步长=1 \\t {torch.randperm(10) = }\")\n"
   ],
   "outputs": [
    {
     "name": "stdout",
     "output_type": "stream",
     "text": [
      "等距离序列，[初始值:0, 结束值)及步长:1 \t torch.arange(1, 11, 2) = tensor([1, 3, 5, 7, 9])\n",
      "等间隔序列，[初始值, 结束值]及元素个数 \t torch.linspace(1, 11, 5) = tensor([ 1.0000,  3.5000,  6.0000,  8.5000, 11.0000])\n",
      "等距乱序列，[初始值=0, 结束值)及步长=1 \t torch.randperm(10) = tensor([4, 6, 7, 0, 5, 2, 9, 3, 8, 1])\n"
     ]
    }
   ],
   "execution_count": 7
  },
  {
   "cell_type": "markdown",
   "id": "2b2ae8d1aa46a316",
   "metadata": {},
   "source": [
    "## 4 Tensor 的索引和数据筛选"
   ]
  },
  {
   "metadata": {
    "ExecuteTime": {
     "end_time": "2025-02-16T06:49:18.333564Z",
     "start_time": "2025-02-16T06:49:18.320567Z"
    }
   },
   "cell_type": "code",
   "source": [
    "c = torch.randn(4, 5)\n",
    "print(c)\n"
   ],
   "id": "d0d5576db24dcce0",
   "outputs": [
    {
     "name": "stdout",
     "output_type": "stream",
     "text": [
      "tensor([[-0.2922, -1.4149,  0.1245,  0.8448, -0.7111],\n",
      "        [ 0.2559,  0.4206,  1.4145,  0.0199,  0.9414],\n",
      "        [ 0.6039,  0.0567, -0.0771,  0.7364,  0.3849],\n",
      "        [ 1.4509,  0.9842,  0.7542,  0.6087, -1.2715]])\n"
     ]
    }
   ],
   "execution_count": 8
  },
  {
   "metadata": {},
   "cell_type": "markdown",
   "source": [
    "### 4.1 从最左边的维度向右（块、页、行、列）进行索引\n",
    "\n",
    "![块页行列.png](assets/imgs/块页行列.png)\n",
    "\n",
    "[CSDN - 关于PyTorch中阶（维度，dim）上的一些个人理解](https://blog.csdn.net/weixin_44820962/article/details/127163440)"
   ],
   "id": "be7667a20f0da5b5"
  },
  {
   "metadata": {
    "ExecuteTime": {
     "end_time": "2025-02-16T06:49:18.379916Z",
     "start_time": "2025-02-16T06:49:18.367704Z"
    }
   },
   "cell_type": "code",
   "source": [
    "print(c[0])\n",
    "print(c[0, 1])\n"
   ],
   "id": "7a1691fdc1e7d28a",
   "outputs": [
    {
     "name": "stdout",
     "output_type": "stream",
     "text": [
      "tensor([-0.2922, -1.4149,  0.1245,  0.8448, -0.7111])\n",
      "tensor(-1.4149)\n"
     ]
    }
   ],
   "execution_count": 9
  },
  {
   "metadata": {},
   "cell_type": "markdown",
   "source": "### 4.2 切片通用形式，[初始值:0, 结束值)及步长:1，不同维度用逗号分隔",
   "id": "c482348691fdfa51"
  },
  {
   "metadata": {
    "ExecuteTime": {
     "end_time": "2025-02-16T06:49:18.424698Z",
     "start_time": "2025-02-16T06:49:18.395435Z"
    }
   },
   "cell_type": "code",
   "source": [
    "d = torch.randn(2, 4, 5)\n",
    "print(d)\n",
    "print(d[:, 2:4, 3:5])\n"
   ],
   "id": "528206d5bef81f59",
   "outputs": [
    {
     "name": "stdout",
     "output_type": "stream",
     "text": [
      "tensor([[[ 0.4498, -0.9076, -1.0529, -1.8473,  0.5475],\n",
      "         [ 0.1050,  1.5645, -2.6079,  1.7241, -1.5794],\n",
      "         [-1.3223,  0.6124,  1.8385,  0.6725, -0.8471],\n",
      "         [ 0.2011,  0.4707, -2.2818,  2.7241,  0.2234]],\n",
      "\n",
      "        [[-1.4439, -0.9291,  2.0292,  0.5244,  1.0667],\n",
      "         [-0.6663, -0.0362, -0.4639,  0.0275,  0.2364],\n",
      "         [ 0.6124,  0.1192, -0.7393,  0.0433,  0.2904],\n",
      "         [ 0.0121, -0.9580, -0.9038,  0.2003,  0.8168]]])\n",
      "tensor([[[ 0.6725, -0.8471],\n",
      "         [ 2.7241,  0.2234]],\n",
      "\n",
      "        [[ 0.0433,  0.2904],\n",
      "         [ 0.2003,  0.8168]]])\n"
     ]
    }
   ],
   "execution_count": 10
  },
  {
   "metadata": {},
   "cell_type": "markdown",
   "source": "### 4.3 选取第n维度",
   "id": "2259fa257299a47e"
  },
  {
   "metadata": {
    "ExecuteTime": {
     "end_time": "2025-02-16T06:49:18.455495Z",
     "start_time": "2025-02-16T06:49:18.442484Z"
    }
   },
   "cell_type": "code",
   "source": "print(torch.index_select(d, 1, torch.tensor([0, 2])))\n",
   "id": "b90f9411d31c5bf2",
   "outputs": [
    {
     "name": "stdout",
     "output_type": "stream",
     "text": [
      "tensor([[[ 0.4498, -0.9076, -1.0529, -1.8473,  0.5475],\n",
      "         [-1.3223,  0.6124,  1.8385,  0.6725, -0.8471]],\n",
      "\n",
      "        [[-1.4439, -0.9291,  2.0292,  0.5244,  1.0667],\n",
      "         [ 0.6124,  0.1192, -0.7393,  0.0433,  0.2904]]])\n"
     ]
    }
   ],
   "execution_count": 11
  },
  {
   "metadata": {},
   "cell_type": "markdown",
   "source": [
    "\n",
    "### 4.4 全部选取（一维:，多维...)"
   ],
   "id": "c8c5440536f4f051"
  },
  {
   "metadata": {
    "ExecuteTime": {
     "end_time": "2025-02-16T06:49:18.487278Z",
     "start_time": "2025-02-16T06:49:18.474409Z"
    }
   },
   "cell_type": "code",
   "source": "print(d[..., 0:3:2, :])\n",
   "id": "eb8b9f3aebae507c",
   "outputs": [
    {
     "name": "stdout",
     "output_type": "stream",
     "text": [
      "tensor([[[ 0.4498, -0.9076, -1.0529, -1.8473,  0.5475],\n",
      "         [-1.3223,  0.6124,  1.8385,  0.6725, -0.8471]],\n",
      "\n",
      "        [[-1.4439, -0.9291,  2.0292,  0.5244,  1.0667],\n",
      "         [ 0.6124,  0.1192, -0.7393,  0.0433,  0.2904]]])\n"
     ]
    }
   ],
   "execution_count": 12
  },
  {
   "metadata": {},
   "cell_type": "markdown",
   "source": "## 5 Tensor 的数学运算",
   "id": "4ba26b4f45ebddd1"
  },
  {
   "metadata": {},
   "cell_type": "markdown",
   "source": [
    "- 标量加法：`add`、`+`\n",
    "- 标量减法：`sub`、`-`\n",
    "- 标量乘法：`mul`、`*`\n",
    "- 标量除法：`div`、`/`\n",
    "- 标量次方：`pow`、`**`\n",
    "- 标量开方：`sqrt`\n",
    "\n",
    "- 矩阵乘法：`matmul`、`@`\n",
    "\n",
    "- 向下取整：`floor`\n",
    "- 向上取整：`ceil`\n",
    "- 四舍五入：`round`\n",
    "- 去尾取整：`trunc`\n",
    "- 去头取小：`frac`"
   ],
   "id": "f0b8ddcd9f8c3e90"
  },
  {
   "metadata": {
    "ExecuteTime": {
     "end_time": "2025-02-16T06:49:18.549561Z",
     "start_time": "2025-02-16T06:49:18.520578Z"
    }
   },
   "cell_type": "code",
   "source": [
    "e = torch.round(torch.rand(2, 2) * 10)\n",
    "f = torch.round(torch.rand(2, 2) * 10)\n",
    "print(e)\n",
    "print(f)\n",
    "print(f\"标量加法：\\n {e + f} \\n {e.add(f)}\")\n",
    "print(f\"标量减法：\\n {e - f} \\n {e.sub(f)}\")\n",
    "print(f\"标量乘法：\\n {e * f} \\n {e.mul(f)}\")\n",
    "print(f\"标量除法：\\n {e / f} \\n {e.div(f)}\")\n",
    "print(f\"标量次方：\\n {e ** f} \\n {e.pow(f)}\")\n",
    "print(f\"标量开方：\\n {e.sqrt()}\")\n"
   ],
   "id": "153276dfa7d8501d",
   "outputs": [
    {
     "name": "stdout",
     "output_type": "stream",
     "text": [
      "tensor([[9., 3.],\n",
      "        [9., 9.]])\n",
      "tensor([[0., 1.],\n",
      "        [7., 3.]])\n",
      "标量加法：\n",
      " tensor([[ 9.,  4.],\n",
      "        [16., 12.]]) \n",
      " tensor([[ 9.,  4.],\n",
      "        [16., 12.]])\n",
      "标量减法：\n",
      " tensor([[9., 2.],\n",
      "        [2., 6.]]) \n",
      " tensor([[9., 2.],\n",
      "        [2., 6.]])\n",
      "标量乘法：\n",
      " tensor([[ 0.,  3.],\n",
      "        [63., 27.]]) \n",
      " tensor([[ 0.,  3.],\n",
      "        [63., 27.]])\n",
      "标量除法：\n",
      " tensor([[   inf, 3.0000],\n",
      "        [1.2857, 3.0000]]) \n",
      " tensor([[   inf, 3.0000],\n",
      "        [1.2857, 3.0000]])\n",
      "标量次方：\n",
      " tensor([[1.0000e+00, 3.0000e+00],\n",
      "        [4.7830e+06, 7.2900e+02]]) \n",
      " tensor([[1.0000e+00, 3.0000e+00],\n",
      "        [4.7830e+06, 7.2900e+02]])\n",
      "标量开方：\n",
      " tensor([[3.0000, 1.7321],\n",
      "        [3.0000, 3.0000]])\n"
     ]
    }
   ],
   "execution_count": 13
  },
  {
   "metadata": {
    "ExecuteTime": {
     "end_time": "2025-02-16T06:49:18.579744Z",
     "start_time": "2025-02-16T06:49:18.566500Z"
    }
   },
   "cell_type": "code",
   "source": [
    "print(e @ f)\n",
    "print(e.matmul(f))\n"
   ],
   "id": "b24a20c7805271de",
   "outputs": [
    {
     "name": "stdout",
     "output_type": "stream",
     "text": [
      "tensor([[21., 18.],\n",
      "        [63., 36.]])\n",
      "tensor([[21., 18.],\n",
      "        [63., 36.]])\n"
     ]
    }
   ],
   "execution_count": 14
  },
  {
   "metadata": {},
   "cell_type": "markdown",
   "source": "## 6 Tensor 的统计属性",
   "id": "7d4190fab7e0d339"
  },
  {
   "metadata": {},
   "cell_type": "markdown",
   "source": [
    "聚合运算（降维）\n",
    "- 求范数：`norm`\n",
    "- 平均值：`mean`\n",
    "- 求和：`sum`\n",
    "- 累乘：`prod`\n",
    "> 注：\n",
    "> dim 默认按列行聚合，返回标量\n",
    "> - 0：按列聚合\n",
    "> - 1：按行聚合\n",
    "\n",
    "- 最大值：`max`\n",
    "- 最大值索引：`argmax`\n",
    "- 最小值：`min`\n",
    "- 最小值索引：`argmin`\n",
    "- 第k小的值：`kthvalue`\n",
    "- 前k小的值：`topk`"
   ],
   "id": "94b82046e1f898a5"
  },
  {
   "metadata": {
    "ExecuteTime": {
     "end_time": "2025-02-16T06:49:18.611440Z",
     "start_time": "2025-02-16T06:49:18.598424Z"
    }
   },
   "cell_type": "code",
   "source": [
    "g = torch.rand(2, 2)\n",
    "print(g)\n",
    "\n",
    "print(f\"求和：\\n {g.sum()}\")\n",
    "print(f\"按列求和：\\n {g.sum(0)}\")\n",
    "print(f\"按行求和：\\n {g.sum(1)}\")\n",
    "\n",
    "print(f\"求和：\\n {torch.sum(g)}\")\n",
    "print(f\"按列求和：\\n {torch.sum(g, dim=0)}\")\n",
    "print(f\"按行求和：\\n {torch.sum(g, dim=1)}\")\n"
   ],
   "id": "a621f31c996c234e",
   "outputs": [
    {
     "name": "stdout",
     "output_type": "stream",
     "text": [
      "tensor([[0.4598, 0.6825],\n",
      "        [0.6619, 0.5100]])\n",
      "求和：\n",
      " 2.3142499923706055\n",
      "按列求和：\n",
      " tensor([1.1217, 1.1926])\n",
      "按行求和：\n",
      " tensor([1.1423, 1.1719])\n",
      "求和：\n",
      " 2.3142499923706055\n",
      "按列求和：\n",
      " tensor([1.1217, 1.1926])\n",
      "按行求和：\n",
      " tensor([1.1423, 1.1719])\n"
     ]
    }
   ],
   "execution_count": 15
  },
  {
   "metadata": {
    "ExecuteTime": {
     "end_time": "2025-02-16T06:49:18.658676Z",
     "start_time": "2025-02-16T06:49:18.629420Z"
    }
   },
   "cell_type": "code",
   "source": [
    "h = torch.trunc(torch.randn(5, 5) * 10)\n",
    "print(h)\n",
    "\n",
    "print(f\"最大值：\\n {h.max()}\")\n",
    "print(f\"最大值索引：\\n {h.argmax()}\")\n",
    "print(f\"每行最大值：\\n {h.max(dim=1)}\")\n",
    "print(f\"每行最大值索引：\\n {h.argmax(dim=1)}\")\n",
    "print(f\"每行最大值（取消降维转置）：\\n {h.max(dim=1, keepdim=True)}\")\n",
    "print(f\"每行最大值索引（取消降维转置）：\\n {h.argmax(dim=1, keepdim=True)}\")\n",
    "\n",
    "print(f\"最大值：\\n {torch.max(h)}\")\n",
    "print(f\"最大值索引：\\n {torch.argmax(h)}\")\n",
    "print(f\"每行最大值：\\n {torch.max(h, 1)}\")\n",
    "print(f\"每行最大值索引：\\n {torch.argmax(h, 1)}\")\n",
    "print(f\"每行最大值（取消降维转置）：\\n {torch.max(h, 1, True)}\")\n",
    "print(f\"每行最大值索引（取消降维转置）：\\n {torch.argmax(h, 1, True)}\")\n"
   ],
   "id": "acfbf3d3c7d13945",
   "outputs": [
    {
     "name": "stdout",
     "output_type": "stream",
     "text": [
      "tensor([[-14.,  -3.,  19.,   9.,  11.],\n",
      "        [  2.,   0., -10.,   0.,  -0.],\n",
      "        [ 10.,  -3.,   9.,   2.,  -0.],\n",
      "        [  6., -14.,  -4.,   0.,  -1.],\n",
      "        [  1.,   8.,  17.,  20.,   3.]])\n",
      "最大值：\n",
      " 20.0\n",
      "最大值索引：\n",
      " 23\n",
      "每行最大值：\n",
      " torch.return_types.max(\n",
      "values=tensor([19.,  2., 10.,  6., 20.]),\n",
      "indices=tensor([2, 0, 0, 0, 3]))\n",
      "每行最大值索引：\n",
      " tensor([2, 0, 0, 0, 3])\n",
      "每行最大值（取消降维转置）：\n",
      " torch.return_types.max(\n",
      "values=tensor([[19.],\n",
      "        [ 2.],\n",
      "        [10.],\n",
      "        [ 6.],\n",
      "        [20.]]),\n",
      "indices=tensor([[2],\n",
      "        [0],\n",
      "        [0],\n",
      "        [0],\n",
      "        [3]]))\n",
      "每行最大值索引（取消降维转置）：\n",
      " tensor([[2],\n",
      "        [0],\n",
      "        [0],\n",
      "        [0],\n",
      "        [3]])\n",
      "最大值：\n",
      " 20.0\n",
      "最大值索引：\n",
      " 23\n",
      "每行最大值：\n",
      " torch.return_types.max(\n",
      "values=tensor([19.,  2., 10.,  6., 20.]),\n",
      "indices=tensor([2, 0, 0, 0, 3]))\n",
      "每行最大值索引：\n",
      " tensor([2, 0, 0, 0, 3])\n",
      "每行最大值（取消降维转置）：\n",
      " torch.return_types.max(\n",
      "values=tensor([[19.],\n",
      "        [ 2.],\n",
      "        [10.],\n",
      "        [ 6.],\n",
      "        [20.]]),\n",
      "indices=tensor([[2],\n",
      "        [0],\n",
      "        [0],\n",
      "        [0],\n",
      "        [3]]))\n",
      "每行最大值索引（取消降维转置）：\n",
      " tensor([[2],\n",
      "        [0],\n",
      "        [0],\n",
      "        [0],\n",
      "        [3]])\n"
     ]
    }
   ],
   "execution_count": 16
  },
  {
   "metadata": {
    "ExecuteTime": {
     "end_time": "2025-02-16T06:49:18.720717Z",
     "start_time": "2025-02-16T06:49:18.692719Z"
    }
   },
   "cell_type": "code",
   "source": [
    "print(h)\n",
    "print(f\"按列第2小的值：\\n {torch.kthvalue(h, 2, dim=0)}\")\n",
    "print(f\"按列前2小的值：\\n {torch.topk(h, 2, dim=0, largest=False)}\")\n",
    "\n",
    "print(f\"按行第2小的值：\\n {torch.kthvalue(h, 2, dim=1)}\")\n",
    "print(f\"按行前2小的值：\\n {torch.topk(h, 2, largest=False)}\")\n"
   ],
   "id": "e630429fd4d332a6",
   "outputs": [
    {
     "name": "stdout",
     "output_type": "stream",
     "text": [
      "tensor([[-14.,  -3.,  19.,   9.,  11.],\n",
      "        [  2.,   0., -10.,   0.,  -0.],\n",
      "        [ 10.,  -3.,   9.,   2.,  -0.],\n",
      "        [  6., -14.,  -4.,   0.,  -1.],\n",
      "        [  1.,   8.,  17.,  20.,   3.]])\n",
      "按列第2小的值：\n",
      " torch.return_types.kthvalue(\n",
      "values=tensor([ 1., -3., -4.,  0., -0.]),\n",
      "indices=tensor([4, 2, 3, 3, 2]))\n",
      "按列前2小的值：\n",
      " torch.return_types.topk(\n",
      "values=tensor([[-14., -14., -10.,   0.,  -1.],\n",
      "        [  1.,  -3.,  -4.,   0.,  -0.]]),\n",
      "indices=tensor([[0, 3, 1, 1, 3],\n",
      "        [4, 0, 3, 3, 1]]))\n",
      "按行第2小的值：\n",
      " torch.return_types.kthvalue(\n",
      "values=tensor([-3.,  0., -0., -4.,  3.]),\n",
      "indices=tensor([1, 3, 4, 2, 4]))\n",
      "按行前2小的值：\n",
      " torch.return_types.topk(\n",
      "values=tensor([[-14.,  -3.],\n",
      "        [-10.,   0.],\n",
      "        [ -3.,  -0.],\n",
      "        [-14.,  -4.],\n",
      "        [  1.,   3.]]),\n",
      "indices=tensor([[0, 1],\n",
      "        [2, 1],\n",
      "        [1, 4],\n",
      "        [1, 2],\n",
      "        [0, 4]]))\n"
     ]
    }
   ],
   "execution_count": 17
  },
  {
   "metadata": {},
   "cell_type": "markdown",
   "source": "## 7 【拓展】 Norm 范数",
   "id": "c74a01aab5ef405b"
  },
  {
   "metadata": {},
   "cell_type": "markdown",
   "source": [
    "设二维范数向量 $v = (x, y)$，则有：\n",
    "\n",
    "- $L_1$ 范数：$||v||_1 = ||(x, y)||_1 = |x| + |y| = (|x|^1, |y|^1)^{\\frac{1}{1}}$\n",
    "- $L_2$ 范数：$||v||_2 = ||(x, y)||_2 = \\sqrt{|x|^2 + |y|^2} = (|x|^2, |y|^2)^{\\frac{1}{2}}$\n",
    "- $L_p$ 范数：$||v||_p = ||(x, y)||_p = \\sqrt[p]{|x|^p + |y|^p} = (|x|^p, |y|^p)^{\\frac{1}{p}}$\n",
    "- $L_∞$ 范数：$||v||_\\infty = ||(x, y)||_\\infty = \\max(|x|, |y|)$\n",
    "\n",
    "---\n",
    "\n",
    "设n维范数向量 $v = (x_1, x_2, ..., x_n)$，则有：\n",
    "\n",
    "- $L_1$ 范数：$||v||_1 = \\sum_{i=1}^n |x_i|$\n",
    "- $L_2$ 范数：$||v||_2 = \\sqrt{\\sum_{i=1}^n |x_i|^2}$\n",
    "- $L_p$ 范数：$||v||_p = \\sqrt[p]{\\sum_{i=1}^n |x_i|^p}$\n",
    "- $L_∞$ 范数：$||v||_\\infty = \\max_{i=1}^n |x_i|$\n"
   ],
   "id": "4ed70bd010d0f0dc"
  }
 ],
 "metadata": {
  "kernelspec": {
   "display_name": "Python 3 (ipykernel)",
   "language": "python",
   "name": "python3"
  },
  "language_info": {
   "codemirror_mode": {
    "name": "ipython",
    "version": 3
   },
   "file_extension": ".py",
   "mimetype": "text/x-python",
   "name": "python",
   "nbconvert_exporter": "python",
   "pygments_lexer": "ipython3",
   "version": "3.10.16"
  }
 },
 "nbformat": 4,
 "nbformat_minor": 5
}
