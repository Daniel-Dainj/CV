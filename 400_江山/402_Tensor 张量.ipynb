{
 "cells": [
  {
   "cell_type": "markdown",
   "id": "ed408e2e613fe724",
   "metadata": {},
   "source": [
    "# Tensor 张量"
   ]
  },
  {
   "cell_type": "markdown",
   "id": "ae7ac6a08b03c951",
   "metadata": {},
   "source": "## 1 深度学习基础概念 - 机器学习的两个基本问题"
  },
  {
   "metadata": {},
   "cell_type": "markdown",
   "source": [
    "### 1.1 分类问题\n",
    "\n",
    "分类问题的目标是预测一个离散的标签或类别。\n",
    "这些标签通常是有限的，并且代表了不同的类别或组。\n",
    "\n",
    "### 1.2 回归问题\n",
    "\n",
    "回归问题的目标是预测一个连续的数值变量。\n",
    "这些数值可以是无限的，回归模型尝试找到输入变量和连续输出变量之间的关系。\n"
   ],
   "id": "dd543c80db4087bd"
  },
  {
   "metadata": {},
   "cell_type": "markdown",
   "source": [
    "## 2 标量、向量、矩阵、张量\n",
    "\n",
    "- 标量（Scalar）：0 阶张量\n",
    "- 向量（Vector）：1 阶张量\n",
    "- 矩阵（Matrix）：2 阶张量\n",
    "- 张量（Tensor）：n 阶（Dimensions，维）\n"
   ],
   "id": "3997d2a51649b0a2"
  },
  {
   "cell_type": "markdown",
   "id": "6e4a1bbe1112137b",
   "metadata": {},
   "source": [
    "## 3 Tensor 的创建"
   ]
  },
  {
   "cell_type": "markdown",
   "id": "fefe5bc83f5a0d19",
   "metadata": {},
   "source": [
    "### 3.1 创建特定值张量"
   ]
  },
  {
   "cell_type": "code",
   "id": "158f95e696e7e704",
   "metadata": {
    "ExecuteTime": {
     "end_time": "2025-02-16T05:39:51.322292Z",
     "start_time": "2025-02-16T05:39:46.961124Z"
    }
   },
   "source": [
    "import torch\n",
    "\n",
    "print(torch.__version__)\n",
    "print(torch.cuda.is_available())\n"
   ],
   "outputs": [
    {
     "name": "stdout",
     "output_type": "stream",
     "text": [
      "2.2.2\n",
      "True\n"
     ]
    }
   ],
   "execution_count": 1
  },
  {
   "cell_type": "code",
   "id": "2ee66092677e40c",
   "metadata": {
    "ExecuteTime": {
     "end_time": "2025-02-16T05:39:51.353279Z",
     "start_time": "2025-02-16T05:39:51.334872Z"
    }
   },
   "source": [
    "# 直接赋值初始化\n",
    "a = torch.tensor([[1, 2, 3], [4, 5, 6]])\n",
    "# 返回a的Tensor类型\n",
    "print(a.type())\n",
    "# 返回a的Tensor形状\n",
    "print(a.shape)\n",
    "# 创建指定形状的Tensor\n",
    "b = torch.Tensor(2, 3)\n",
    "print(b)\n",
    "print(b.type())\n"
   ],
   "outputs": [
    {
     "name": "stdout",
     "output_type": "stream",
     "text": [
      "torch.LongTensor\n",
      "torch.Size([2, 3])\n",
      "tensor([[1.2184e+24, 1.7082e-42, 0.0000e+00],\n",
      "        [0.0000e+00, 0.0000e+00, 0.0000e+00]])\n",
      "torch.FloatTensor\n"
     ]
    }
   ],
   "execution_count": 2
  },
  {
   "cell_type": "markdown",
   "id": "3e34b7ab38a2b9b2",
   "metadata": {},
   "source": [
    "### 3.2 创建特殊值张量"
   ]
  },
  {
   "cell_type": "code",
   "id": "initial_id",
   "metadata": {
    "collapsed": true,
    "jupyter": {
     "outputs_hidden": true
    },
    "ExecuteTime": {
     "end_time": "2025-02-16T05:39:51.964135Z",
     "start_time": "2025-02-16T05:39:51.936133Z"
    }
   },
   "source": [
    "print(f\"全1张量：\\n {torch.ones((2, 3, 4))}\")\n",
    "print(f\"全0张量：\\n {torch.zeros((2, 3, 4))}\")\n",
    "print(f\"单位矩阵：\\n {torch.eye(3)}\")\n",
    "print(f\"指定大小张量：\\n {torch.empty((2, 3, 4))}\")\n",
    "print(f\"指定大小和值张量：\\n {torch.full((2, 3, 4), 5)}\")\n"
   ],
   "outputs": [
    {
     "name": "stdout",
     "output_type": "stream",
     "text": [
      "全1张量：\n",
      " tensor([[[1., 1., 1., 1.],\n",
      "         [1., 1., 1., 1.],\n",
      "         [1., 1., 1., 1.]],\n",
      "\n",
      "        [[1., 1., 1., 1.],\n",
      "         [1., 1., 1., 1.],\n",
      "         [1., 1., 1., 1.]]])\n",
      "全0张量：\n",
      " tensor([[[0., 0., 0., 0.],\n",
      "         [0., 0., 0., 0.],\n",
      "         [0., 0., 0., 0.]],\n",
      "\n",
      "        [[0., 0., 0., 0.],\n",
      "         [0., 0., 0., 0.],\n",
      "         [0., 0., 0., 0.]]])\n",
      "单位矩阵：\n",
      " tensor([[1., 0., 0.],\n",
      "        [0., 1., 0.],\n",
      "        [0., 0., 1.]])\n",
      "指定大小张量：\n",
      " tensor([[[0., 0., 0., 0.],\n",
      "         [0., 0., 0., 0.],\n",
      "         [0., 0., 0., 0.]],\n",
      "\n",
      "        [[0., 0., 0., 0.],\n",
      "         [0., 0., 0., 0.],\n",
      "         [0., 0., 0., 0.]]])\n",
      "指定大小和值张量：\n",
      " tensor([[[5, 5, 5, 5],\n",
      "         [5, 5, 5, 5],\n",
      "         [5, 5, 5, 5]],\n",
      "\n",
      "        [[5, 5, 5, 5],\n",
      "         [5, 5, 5, 5],\n",
      "         [5, 5, 5, 5]]])\n"
     ]
    }
   ],
   "execution_count": 3
  },
  {
   "cell_type": "code",
   "id": "277b087b8fc1a6fc",
   "metadata": {
    "ExecuteTime": {
     "end_time": "2025-02-16T05:39:52.011223Z",
     "start_time": "2025-02-16T05:39:51.983136Z"
    }
   },
   "source": [
    "# 拷贝自原属性（形状、数据类型）的新张量\n",
    "x = torch.empty((2, 3, 4))\n",
    "print(x)\n",
    "print(f\"拷贝全1张量：\\n {torch.ones_like(x)}\")\n",
    "print(f\"拷贝全0张量：\\n {torch.zeros_like(x)}\")\n",
    "print(f\"拷贝指定大小张量：\\n {torch.empty_like(x)}\")\n",
    "print(f\"拷贝指定大小和值张量：\\n {torch.full_like(x, 5)}\")\n"
   ],
   "outputs": [
    {
     "name": "stdout",
     "output_type": "stream",
     "text": [
      "tensor([[[0., 0., 0., 0.],\n",
      "         [0., 0., 0., 0.],\n",
      "         [0., 0., 0., 0.]],\n",
      "\n",
      "        [[0., 0., 0., 0.],\n",
      "         [0., 0., 0., 0.],\n",
      "         [0., 0., 0., 0.]]])\n",
      "拷贝全1张量：\n",
      " tensor([[[1., 1., 1., 1.],\n",
      "         [1., 1., 1., 1.],\n",
      "         [1., 1., 1., 1.]],\n",
      "\n",
      "        [[1., 1., 1., 1.],\n",
      "         [1., 1., 1., 1.],\n",
      "         [1., 1., 1., 1.]]])\n",
      "拷贝全0张量：\n",
      " tensor([[[0., 0., 0., 0.],\n",
      "         [0., 0., 0., 0.],\n",
      "         [0., 0., 0., 0.]],\n",
      "\n",
      "        [[0., 0., 0., 0.],\n",
      "         [0., 0., 0., 0.],\n",
      "         [0., 0., 0., 0.]]])\n",
      "拷贝指定大小张量：\n",
      " tensor([[[1.2189e+24, 1.7082e-42, 0.0000e+00, 0.0000e+00],\n",
      "         [0.0000e+00, 0.0000e+00, 0.0000e+00, 0.0000e+00],\n",
      "         [0.0000e+00, 0.0000e+00, 0.0000e+00, 0.0000e+00]],\n",
      "\n",
      "        [[0.0000e+00, 0.0000e+00, 0.0000e+00, 0.0000e+00],\n",
      "         [0.0000e+00, 0.0000e+00, 0.0000e+00, 0.0000e+00],\n",
      "         [0.0000e+00, 0.0000e+00, 0.0000e+00, 0.0000e+00]]])\n",
      "拷贝指定大小和值张量：\n",
      " tensor([[[5., 5., 5., 5.],\n",
      "         [5., 5., 5., 5.],\n",
      "         [5., 5., 5., 5.]],\n",
      "\n",
      "        [[5., 5., 5., 5.],\n",
      "         [5., 5., 5., 5.],\n",
      "         [5., 5., 5., 5.]]])\n"
     ]
    }
   ],
   "execution_count": 4
  },
  {
   "cell_type": "markdown",
   "id": "4e0f345fad39cd62",
   "metadata": {},
   "source": [
    "### 3.3 随机初始化张量"
   ]
  },
  {
   "cell_type": "code",
   "id": "f37982e9aabb4000",
   "metadata": {
    "ExecuteTime": {
     "end_time": "2025-02-16T05:39:52.072402Z",
     "start_time": "2025-02-16T05:39:52.044580Z"
    }
   },
   "source": [
    "print(f\"随机张量∈(0, 1)：\\n {torch.rand((2, 3, 4))}\")\n",
    "print(f\"标准正态分布张量N(0, 1)，即固定随机序列平均值为0、标准差为1：\\n {torch.randn((2, 3, 4))}\")\n",
    "print(f\"正态分布张量，指定随机序列平均值为0.5、标准差为1.5：\\n {torch.normal(0.5, 1.5, (2, 3, 4))}\")\n",
    "print(f\"均匀分布张量，指定随机序列范围为(-5, 5)：\\n {torch.Tensor(2, 3, 4).uniform_(-5, 5)}\")\n"
   ],
   "outputs": [
    {
     "name": "stdout",
     "output_type": "stream",
     "text": [
      "随机张量∈(0, 1)：\n",
      " tensor([[[0.8518, 0.5986, 0.7429, 0.8897],\n",
      "         [0.8862, 0.9893, 0.9103, 0.3283],\n",
      "         [0.6950, 0.9219, 0.4015, 0.4546]],\n",
      "\n",
      "        [[0.0409, 0.1991, 0.1765, 0.2475],\n",
      "         [0.6541, 0.9669, 0.7112, 0.9271],\n",
      "         [0.2837, 0.9404, 0.1076, 0.5478]]])\n",
      "标准正态分布张量N(0, 1)，即固定随机序列平均值为0、标准差为1：\n",
      " tensor([[[ 0.3483, -0.2772,  0.9988, -1.1597],\n",
      "         [-1.1533, -0.1625,  0.6486,  0.7787],\n",
      "         [-0.4750,  0.4442,  0.5001, -0.3844]],\n",
      "\n",
      "        [[-0.4001, -0.1652, -0.8987, -0.5428],\n",
      "         [ 1.3514, -0.3002, -0.4154,  0.6091],\n",
      "         [-0.0984, -1.4002, -0.2479,  0.8838]]])\n",
      "正态分布张量，指定随机序列平均值为0.5、标准差为1.5：\n",
      " tensor([[[ 2.5918, -0.9330, -0.5955, -1.0014],\n",
      "         [-0.1174, -0.7976,  1.8588, -0.7908],\n",
      "         [ 3.7150,  1.0008,  1.6499,  1.8445]],\n",
      "\n",
      "        [[ 3.1865,  0.1357,  1.0582,  4.7268],\n",
      "         [ 1.2922,  1.7455, -0.0355,  0.2595],\n",
      "         [ 1.0048, -0.0224, -0.6887,  1.9635]]])\n",
      "均匀分布张量，指定随机序列范围为(-5, 5)：\n",
      " tensor([[[-4.8550,  0.4682, -0.7851,  2.8473],\n",
      "         [ 4.9087,  2.5129, -0.4239, -1.6792],\n",
      "         [-0.2873, -4.2691,  1.5267,  0.3052]],\n",
      "\n",
      "        [[-3.5365, -3.0450,  2.5194, -4.0926],\n",
      "         [ 2.2654,  1.4737, -1.2173, -4.5482],\n",
      "         [ 1.8234, -3.8054, -2.1633, -3.2161]]])\n"
     ]
    }
   ],
   "execution_count": 5
  },
  {
   "cell_type": "code",
   "id": "91a3eb4da9f7a59c",
   "metadata": {
    "ExecuteTime": {
     "end_time": "2025-02-16T05:39:52.102403Z",
     "start_time": "2025-02-16T05:39:52.090403Z"
    }
   },
   "source": [
    "# 拷贝自原属性（形状、数据类型）的新张量\n",
    "y = torch.empty((2, 3, 4))\n",
    "print(y)\n",
    "print(f\"拷贝随机张量：\\n {torch.rand_like(y)}\")\n",
    "print(f\"拷贝标准正态分布张量N(0, 1)，即固定随机序列平均值为0、标准差为1：\\n {torch.randn_like(y)}\")\n"
   ],
   "outputs": [
    {
     "name": "stdout",
     "output_type": "stream",
     "text": [
      "tensor([[[1.2185e+24, 1.7082e-42, 2.3694e-38, 2.3694e-38],\n",
      "         [2.3694e-38, 2.3694e-38, 1.0000e+00, 1.0000e+00],\n",
      "         [1.0000e+00, 1.0000e+00, 1.0000e+00, 1.0000e+00]],\n",
      "\n",
      "        [[1.0000e+00, 1.0000e+00, 1.0000e+00, 1.0000e+00],\n",
      "         [1.0000e+00, 1.0000e+00, 1.0000e+00, 1.0000e+00],\n",
      "         [1.0000e+00, 1.0000e+00, 1.0000e+00, 1.0000e+00]]])\n",
      "拷贝随机张量：\n",
      " tensor([[[0.4095, 0.6358, 0.9846, 0.6409],\n",
      "         [0.2873, 0.9538, 0.5871, 0.8436],\n",
      "         [0.3890, 0.9903, 0.4846, 0.6287]],\n",
      "\n",
      "        [[0.7800, 0.5466, 0.9359, 0.2345],\n",
      "         [0.6673, 0.5746, 0.2401, 0.0623],\n",
      "         [0.3759, 0.7970, 0.0563, 0.1811]]])\n",
      "拷贝标准正态分布张量N(0, 1)，即固定随机序列平均值为0、标准差为1：\n",
      " tensor([[[ 0.7436, -0.6214, -1.1071, -0.5496],\n",
      "         [ 1.1928,  0.9128, -0.7392, -0.4619],\n",
      "         [-0.0308, -0.3141,  0.3029, -0.8890]],\n",
      "\n",
      "        [[-0.3725, -0.1377, -0.7328, -0.5673],\n",
      "         [-0.4187,  0.5974, -0.4048,  0.8541],\n",
      "         [-0.9733,  0.1025, -0.2879, -0.3080]]])\n"
     ]
    }
   ],
   "execution_count": 6
  },
  {
   "cell_type": "markdown",
   "id": "81b02781f5e779db",
   "metadata": {},
   "source": [
    "### 3.4 序列初始化张量"
   ]
  },
  {
   "cell_type": "code",
   "id": "a329dc8df4dc2787",
   "metadata": {
    "ExecuteTime": {
     "end_time": "2025-02-16T05:39:52.149590Z",
     "start_time": "2025-02-16T05:39:52.126591Z"
    }
   },
   "source": [
    "print(f\"等距离序列，[初始值:0, 结束值)及步长:1 \\t {torch.arange(1, 11, 2) = }\")\n",
    "print(f\"等间隔序列，[初始值, 结束值]及元素个数 \\t {torch.linspace(1, 11, 5) = }\")\n",
    "print(f\"等距乱序列，[初始值=0, 结束值)及步长=1 \\t {torch.randperm(10) = }\")\n"
   ],
   "outputs": [
    {
     "name": "stdout",
     "output_type": "stream",
     "text": [
      "等距离序列，[初始值:0, 结束值)及步长:1 \t torch.arange(1, 11, 2) = tensor([1, 3, 5, 7, 9])\n",
      "等间隔序列，[初始值, 结束值]及元素个数 \t torch.linspace(1, 11, 5) = tensor([ 1.0000,  3.5000,  6.0000,  8.5000, 11.0000])\n",
      "等距乱序列，[初始值=0, 结束值)及步长=1 \t torch.randperm(10) = tensor([9, 4, 8, 3, 5, 2, 7, 6, 0, 1])\n"
     ]
    }
   ],
   "execution_count": 7
  },
  {
   "cell_type": "markdown",
   "id": "2b2ae8d1aa46a316",
   "metadata": {},
   "source": [
    "## 4 Tensor 的索引和数据筛选"
   ]
  },
  {
   "metadata": {
    "ExecuteTime": {
     "end_time": "2025-02-16T05:39:52.196136Z",
     "start_time": "2025-02-16T05:39:52.183123Z"
    }
   },
   "cell_type": "code",
   "source": [
    "c = torch.randn(4, 5)\n",
    "print(c)\n"
   ],
   "id": "d0d5576db24dcce0",
   "outputs": [
    {
     "name": "stdout",
     "output_type": "stream",
     "text": [
      "tensor([[ 1.0518, -1.3412, -0.3233,  0.7146, -2.3593],\n",
      "        [-0.6252,  1.6871, -0.4247, -0.6438, -0.9044],\n",
      "        [ 0.4766,  0.8582, -2.3031,  0.7300,  1.4451],\n",
      "        [ 0.0917, -0.0381,  0.2955, -0.7857, -0.4877]])\n"
     ]
    }
   ],
   "execution_count": 8
  },
  {
   "metadata": {},
   "cell_type": "markdown",
   "source": [
    "### 4.1 从最左边的维度向右（块、页、行、列）进行索引\n",
    "\n",
    "![块页行列.png](assets/imgs/块页行列.png)\n",
    "\n",
    "[CSDN - 关于PyTorch中阶（维度，dim）上的一些个人理解](https://blog.csdn.net/weixin_44820962/article/details/127163440)"
   ],
   "id": "be7667a20f0da5b5"
  },
  {
   "metadata": {
    "ExecuteTime": {
     "end_time": "2025-02-16T05:39:52.242670Z",
     "start_time": "2025-02-16T05:39:52.225053Z"
    }
   },
   "cell_type": "code",
   "source": [
    "print(c[0])\n",
    "print(c[0, 1])\n"
   ],
   "id": "7a1691fdc1e7d28a",
   "outputs": [
    {
     "name": "stdout",
     "output_type": "stream",
     "text": [
      "tensor([ 1.0518, -1.3412, -0.3233,  0.7146, -2.3593])\n",
      "tensor(-1.3412)\n"
     ]
    }
   ],
   "execution_count": 9
  },
  {
   "metadata": {},
   "cell_type": "markdown",
   "source": "### 4.2 切片通用形式，[初始值:0, 结束值)及步长:1，不同维度用逗号分隔",
   "id": "c482348691fdfa51"
  },
  {
   "metadata": {
    "ExecuteTime": {
     "end_time": "2025-02-16T05:39:52.304488Z",
     "start_time": "2025-02-16T05:39:52.278063Z"
    }
   },
   "cell_type": "code",
   "source": [
    "d = torch.randn(2, 4, 5)\n",
    "print(d)\n",
    "print(d[:, 2:4, 3:5])\n"
   ],
   "id": "528206d5bef81f59",
   "outputs": [
    {
     "name": "stdout",
     "output_type": "stream",
     "text": [
      "tensor([[[ 1.2438,  1.1770,  0.6459,  1.0087, -0.5820],\n",
      "         [-0.5488,  0.9459,  0.7546, -0.7657,  0.1373],\n",
      "         [ 0.1473,  2.5231, -0.0736, -0.4812,  1.2578],\n",
      "         [-1.4838,  0.1906,  1.3436,  1.3696, -0.5665]],\n",
      "\n",
      "        [[ 2.1600, -0.5938, -0.4649,  0.1788, -0.1575],\n",
      "         [ 0.2622,  0.1103,  1.4622, -1.5443, -0.9607],\n",
      "         [ 0.2643, -0.0946,  1.0866, -0.9183, -0.0247],\n",
      "         [ 1.1908, -0.8221, -0.4591,  1.7359,  1.3492]]])\n",
      "tensor([[[-0.4812,  1.2578],\n",
      "         [ 1.3696, -0.5665]],\n",
      "\n",
      "        [[-0.9183, -0.0247],\n",
      "         [ 1.7359,  1.3492]]])\n"
     ]
    }
   ],
   "execution_count": 10
  },
  {
   "metadata": {},
   "cell_type": "markdown",
   "source": "### 4.3 选取第n维度",
   "id": "2259fa257299a47e"
  },
  {
   "metadata": {
    "ExecuteTime": {
     "end_time": "2025-02-16T05:39:52.350003Z",
     "start_time": "2025-02-16T05:39:52.337002Z"
    }
   },
   "cell_type": "code",
   "source": "print(torch.index_select(d, 1, torch.tensor([0, 2])))\n",
   "id": "b90f9411d31c5bf2",
   "outputs": [
    {
     "name": "stdout",
     "output_type": "stream",
     "text": [
      "tensor([[[ 1.2438,  1.1770,  0.6459,  1.0087, -0.5820],\n",
      "         [ 0.1473,  2.5231, -0.0736, -0.4812,  1.2578]],\n",
      "\n",
      "        [[ 2.1600, -0.5938, -0.4649,  0.1788, -0.1575],\n",
      "         [ 0.2643, -0.0946,  1.0866, -0.9183, -0.0247]]])\n"
     ]
    }
   ],
   "execution_count": 11
  },
  {
   "metadata": {},
   "cell_type": "markdown",
   "source": [
    "\n",
    "### 4.4 全部选取（一维:，多维...)"
   ],
   "id": "c8c5440536f4f051"
  },
  {
   "metadata": {
    "ExecuteTime": {
     "end_time": "2025-02-16T05:39:52.382003Z",
     "start_time": "2025-02-16T05:39:52.369002Z"
    }
   },
   "cell_type": "code",
   "source": "print(d[..., 0:3:2, :])\n",
   "id": "eb8b9f3aebae507c",
   "outputs": [
    {
     "name": "stdout",
     "output_type": "stream",
     "text": [
      "tensor([[[ 1.2438,  1.1770,  0.6459,  1.0087, -0.5820],\n",
      "         [ 0.1473,  2.5231, -0.0736, -0.4812,  1.2578]],\n",
      "\n",
      "        [[ 2.1600, -0.5938, -0.4649,  0.1788, -0.1575],\n",
      "         [ 0.2643, -0.0946,  1.0866, -0.9183, -0.0247]]])\n"
     ]
    }
   ],
   "execution_count": 12
  },
  {
   "metadata": {},
   "cell_type": "markdown",
   "source": "## 5 Tensor 的数学运算",
   "id": "4ba26b4f45ebddd1"
  },
  {
   "metadata": {},
   "cell_type": "markdown",
   "source": [
    "- 标量加法：`add`、`+`\n",
    "- 标量减法：`sub`、`-`\n",
    "- 标量乘法：`mul`、`*`\n",
    "- 标量除法：`div`、`/`\n",
    "- 标量次方：`pow`、`**`\n",
    "- 标量开方：`sqrt`\n",
    "\n",
    "- 矩阵乘法：`matmul`、`@`\n",
    "\n",
    "- 向下取整：`floor`\n",
    "- 向上取整：`ceil`\n",
    "- 四舍五入：`round`\n",
    "- 去尾取整：`trunc`\n",
    "- 去头取小：`frac`"
   ],
   "id": "f0b8ddcd9f8c3e90"
  },
  {
   "metadata": {
    "ExecuteTime": {
     "end_time": "2025-02-16T05:39:52.442004Z",
     "start_time": "2025-02-16T05:39:52.399004Z"
    }
   },
   "cell_type": "code",
   "source": [
    "e = torch.round(torch.rand(2, 2) * 10)\n",
    "f = torch.round(torch.rand(2, 2) * 10)\n",
    "print(e)\n",
    "print(f)\n",
    "print(f\"标量加法：\\n {e + f} \\n {e.add(f)}\")\n",
    "print(f\"标量减法：\\n {e - f} \\n {e.sub(f)}\")\n",
    "print(f\"标量乘法：\\n {e * f} \\n {e.mul(f)}\")\n",
    "print(f\"标量除法：\\n {e / f} \\n {e.div(f)}\")\n",
    "print(f\"标量次方：\\n {e ** f} \\n {e.pow(f)}\")\n",
    "print(f\"标量开方：\\n {e.sqrt()}\")\n"
   ],
   "id": "153276dfa7d8501d",
   "outputs": [
    {
     "name": "stdout",
     "output_type": "stream",
     "text": [
      "tensor([[5., 2.],\n",
      "        [9., 9.]])\n",
      "tensor([[1., 6.],\n",
      "        [4., 7.]])\n",
      "标量加法：\n",
      " tensor([[ 6.,  8.],\n",
      "        [13., 16.]]) \n",
      " tensor([[ 6.,  8.],\n",
      "        [13., 16.]])\n",
      "标量减法：\n",
      " tensor([[ 4., -4.],\n",
      "        [ 5.,  2.]]) \n",
      " tensor([[ 4., -4.],\n",
      "        [ 5.,  2.]])\n",
      "标量乘法：\n",
      " tensor([[ 5., 12.],\n",
      "        [36., 63.]]) \n",
      " tensor([[ 5., 12.],\n",
      "        [36., 63.]])\n",
      "标量除法：\n",
      " tensor([[5.0000, 0.3333],\n",
      "        [2.2500, 1.2857]]) \n",
      " tensor([[5.0000, 0.3333],\n",
      "        [2.2500, 1.2857]])\n",
      "标量次方：\n",
      " tensor([[5.0000e+00, 6.4000e+01],\n",
      "        [6.5610e+03, 4.7830e+06]]) \n",
      " tensor([[5.0000e+00, 6.4000e+01],\n",
      "        [6.5610e+03, 4.7830e+06]])\n",
      "标量开方：\n",
      " tensor([[2.2361, 1.4142],\n",
      "        [3.0000, 3.0000]])\n"
     ]
    }
   ],
   "execution_count": 13
  },
  {
   "metadata": {
    "ExecuteTime": {
     "end_time": "2025-02-16T05:39:52.488004Z",
     "start_time": "2025-02-16T05:39:52.462004Z"
    }
   },
   "cell_type": "code",
   "source": [
    "print(e @ f)\n",
    "print(e.matmul(f))\n"
   ],
   "id": "b24a20c7805271de",
   "outputs": [
    {
     "name": "stdout",
     "output_type": "stream",
     "text": [
      "tensor([[ 13.,  44.],\n",
      "        [ 45., 117.]])\n",
      "tensor([[ 13.,  44.],\n",
      "        [ 45., 117.]])\n"
     ]
    }
   ],
   "execution_count": 14
  },
  {
   "metadata": {},
   "cell_type": "markdown",
   "source": "## 6 Tensor 的统计属性",
   "id": "7d4190fab7e0d339"
  },
  {
   "metadata": {},
   "cell_type": "markdown",
   "source": [
    "- 求范数：`norm`\n",
    "\n",
    "聚合运算（降维）\n",
    "- 平均值：`mean`\n",
    "- 求和：`sum`\n",
    "- 累乘：`prod`\n",
    "> 注：\n",
    "> dim 默认按列行聚合，返回标量\n",
    "> - 0：按列聚合\n",
    "> - 1：按行聚合\n",
    "\n",
    "- 最大值：`max`\n",
    "- 最大值索引：`argmax`\n",
    "- 最小值：`min`\n",
    "- 最小值索引：`argmin`\n",
    "- 第k小的值：`kthvalue`\n",
    "- 前k小的值：`topk`"
   ],
   "id": "94b82046e1f898a5"
  },
  {
   "metadata": {
    "ExecuteTime": {
     "end_time": "2025-02-16T05:39:52.520005Z",
     "start_time": "2025-02-16T05:39:52.506003Z"
    }
   },
   "cell_type": "code",
   "source": [
    "g = torch.rand(2, 2)\n",
    "print(g)\n",
    "\n",
    "print(f\"求和：\\n {g.sum()}\")\n",
    "print(f\"按列求和：\\n {g.sum(0)}\")\n",
    "print(f\"按行求和：\\n {g.sum(1)}\")\n",
    "\n",
    "print(f\"求和：\\n {torch.sum(g)}\")\n",
    "print(f\"按列求和：\\n {torch.sum(g, dim=0)}\")\n",
    "print(f\"按行求和：\\n {torch.sum(g, dim=1)}\")\n"
   ],
   "id": "a621f31c996c234e",
   "outputs": [
    {
     "name": "stdout",
     "output_type": "stream",
     "text": [
      "tensor([[0.0687, 0.0098],\n",
      "        [0.7245, 0.1637]])\n",
      "求和：\n",
      " 0.9666789770126343\n",
      "按列求和：\n",
      " tensor([0.7932, 0.1735])\n",
      "按行求和：\n",
      " tensor([0.0785, 0.8882])\n",
      "求和：\n",
      " 0.9666789770126343\n",
      "按列求和：\n",
      " tensor([0.7932, 0.1735])\n",
      "按行求和：\n",
      " tensor([0.0785, 0.8882])\n"
     ]
    }
   ],
   "execution_count": 15
  },
  {
   "metadata": {
    "ExecuteTime": {
     "end_time": "2025-02-16T05:39:52.568003Z",
     "start_time": "2025-02-16T05:39:52.539003Z"
    }
   },
   "cell_type": "code",
   "source": [
    "h = torch.trunc(torch.randn(5, 5) * 10)\n",
    "print(h)\n",
    "\n",
    "print(f\"最大值：\\n {h.max()}\")\n",
    "print(f\"最大值索引：\\n {h.argmax()}\")\n",
    "print(f\"每行最大值：\\n {h.max(dim=1)}\")\n",
    "print(f\"每行最大值索引：\\n {h.argmax(dim=1)}\")\n",
    "print(f\"每行最大值（取消降维转置）：\\n {h.max(dim=1, keepdim=True)}\")\n",
    "print(f\"每行最大值索引（取消降维转置）：\\n {h.argmax(dim=1, keepdim=True)}\")\n",
    "\n",
    "print(f\"最大值：\\n {torch.max(h)}\")\n",
    "print(f\"最大值索引：\\n {torch.argmax(h)}\")\n",
    "print(f\"每行最大值：\\n {torch.max(h, 1)}\")\n",
    "print(f\"每行最大值索引：\\n {torch.argmax(h, 1)}\")\n",
    "print(f\"每行最大值（取消降维转置）：\\n {torch.max(h, 1, True)}\")\n",
    "print(f\"每行最大值索引（取消降维转置）：\\n {torch.argmax(h, 1, True)}\")\n"
   ],
   "id": "acfbf3d3c7d13945",
   "outputs": [
    {
     "name": "stdout",
     "output_type": "stream",
     "text": [
      "tensor([[ -4.,  14.,  -3.,  -1.,   3.],\n",
      "        [  7., -15.,  13.,  -1., -12.],\n",
      "        [ -1.,  -3., -10.,  -0.,   9.],\n",
      "        [ -0.,  -6.,   0.,   6.,   0.],\n",
      "        [  2.,  -1.,  -2.,  -6.,  15.]])\n",
      "最大值：\n",
      " 15.0\n",
      "最大值索引：\n",
      " 24\n",
      "每行最大值：\n",
      " torch.return_types.max(\n",
      "values=tensor([14., 13.,  9.,  6., 15.]),\n",
      "indices=tensor([1, 2, 4, 3, 4]))\n",
      "每行最大值索引：\n",
      " tensor([1, 2, 4, 3, 4])\n",
      "每行最大值（取消降维转置）：\n",
      " torch.return_types.max(\n",
      "values=tensor([[14.],\n",
      "        [13.],\n",
      "        [ 9.],\n",
      "        [ 6.],\n",
      "        [15.]]),\n",
      "indices=tensor([[1],\n",
      "        [2],\n",
      "        [4],\n",
      "        [3],\n",
      "        [4]]))\n",
      "每行最大值索引（取消降维转置）：\n",
      " tensor([[1],\n",
      "        [2],\n",
      "        [4],\n",
      "        [3],\n",
      "        [4]])\n",
      "最大值：\n",
      " 15.0\n",
      "最大值索引：\n",
      " 24\n",
      "每行最大值：\n",
      " torch.return_types.max(\n",
      "values=tensor([14., 13.,  9.,  6., 15.]),\n",
      "indices=tensor([1, 2, 4, 3, 4]))\n",
      "每行最大值索引：\n",
      " tensor([1, 2, 4, 3, 4])\n",
      "每行最大值（取消降维转置）：\n",
      " torch.return_types.max(\n",
      "values=tensor([[14.],\n",
      "        [13.],\n",
      "        [ 9.],\n",
      "        [ 6.],\n",
      "        [15.]]),\n",
      "indices=tensor([[1],\n",
      "        [2],\n",
      "        [4],\n",
      "        [3],\n",
      "        [4]]))\n",
      "每行最大值索引（取消降维转置）：\n",
      " tensor([[1],\n",
      "        [2],\n",
      "        [4],\n",
      "        [3],\n",
      "        [4]])\n"
     ]
    }
   ],
   "execution_count": 16
  },
  {
   "metadata": {
    "ExecuteTime": {
     "end_time": "2025-02-16T05:39:52.630001Z",
     "start_time": "2025-02-16T05:39:52.603001Z"
    }
   },
   "cell_type": "code",
   "source": [
    "print(h)\n",
    "print(f\"按列第2小的值：\\n {torch.kthvalue(h, 2, dim=0)}\")\n",
    "print(f\"按列前2小的值：\\n {torch.topk(h, 2, dim=0, largest=False)}\")\n",
    "\n",
    "print(f\"按行第2小的值：\\n {torch.kthvalue(h, 2, dim=1)}\")\n",
    "print(f\"按行前2小的值：\\n {torch.topk(h, 2, largest=False)}\")\n"
   ],
   "id": "e630429fd4d332a6",
   "outputs": [
    {
     "name": "stdout",
     "output_type": "stream",
     "text": [
      "tensor([[ -4.,  14.,  -3.,  -1.,   3.],\n",
      "        [  7., -15.,  13.,  -1., -12.],\n",
      "        [ -1.,  -3., -10.,  -0.,   9.],\n",
      "        [ -0.,  -6.,   0.,   6.,   0.],\n",
      "        [  2.,  -1.,  -2.,  -6.,  15.]])\n",
      "按列第2小的值：\n",
      " torch.return_types.kthvalue(\n",
      "values=tensor([-1., -6., -3., -1.,  0.]),\n",
      "indices=tensor([2, 3, 0, 0, 3]))\n",
      "按列前2小的值：\n",
      " torch.return_types.topk(\n",
      "values=tensor([[ -4., -15., -10.,  -6., -12.],\n",
      "        [ -1.,  -6.,  -3.,  -1.,   0.]]),\n",
      "indices=tensor([[0, 1, 2, 4, 1],\n",
      "        [2, 3, 0, 0, 3]]))\n",
      "按行第2小的值：\n",
      " torch.return_types.kthvalue(\n",
      "values=tensor([ -3., -12.,  -3.,   0.,  -2.]),\n",
      "indices=tensor([2, 4, 1, 2, 2]))\n",
      "按行前2小的值：\n",
      " torch.return_types.topk(\n",
      "values=tensor([[ -4.,  -3.],\n",
      "        [-15., -12.],\n",
      "        [-10.,  -3.],\n",
      "        [ -6.,  -0.],\n",
      "        [ -6.,  -2.]]),\n",
      "indices=tensor([[0, 2],\n",
      "        [1, 4],\n",
      "        [2, 1],\n",
      "        [1, 0],\n",
      "        [3, 2]]))\n"
     ]
    }
   ],
   "execution_count": 17
  }
 ],
 "metadata": {
  "kernelspec": {
   "display_name": "Python 3 (ipykernel)",
   "language": "python",
   "name": "python3"
  },
  "language_info": {
   "codemirror_mode": {
    "name": "ipython",
    "version": 3
   },
   "file_extension": ".py",
   "mimetype": "text/x-python",
   "name": "python",
   "nbconvert_exporter": "python",
   "pygments_lexer": "ipython3",
   "version": "3.10.16"
  }
 },
 "nbformat": 4,
 "nbformat_minor": 5
}
